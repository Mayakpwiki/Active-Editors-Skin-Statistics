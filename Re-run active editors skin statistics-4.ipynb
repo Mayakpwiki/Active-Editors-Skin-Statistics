{
 "cells": [
  {
   "cell_type": "markdown",
   "metadata": {},
   "source": [
    "# Re-run active editors skin statistics [T180860](https://phabricator.wikimedia.org/T180860)"
   ]
  },
  {
   "cell_type": "code",
   "execution_count": 2,
   "metadata": {},
   "outputs": [],
   "source": [
    "import pandas as pd\n",
    "import numpy as np\n",
    "\n",
    "import datetime as dt\n",
    "\n",
    "from wmfdata import hive, mariadb"
   ]
  },
  {
   "cell_type": "markdown",
   "metadata": {},
   "source": [
    "To try this out on a smaller dataset, we will first begin by taking all users that were active editors in the first quarter of 2019 i.e. 2019Q3.  \n",
    "We will use their user_id and query the mariadb table user_properties to get their skin preferences. "
   ]
  },
  {
   "cell_type": "code",
   "execution_count": 3,
   "metadata": {},
   "outputs": [],
   "source": [
    "#Active Editors for 2019 Q3\n",
    "\n",
    "active_ed_2019Q3=hive.run(\"\"\"\n",
    "select\n",
    "        cast(month as date) as month,\n",
    "        wiki,\n",
    "        user_name,\n",
    "        user_id,\n",
    "        sum(content_edits) as content_edits\n",
    "    from neilpquinn.editor_month\n",
    "    where\n",
    "        month >= \"2019-01-01\" and month < \"2019-04-01\" --2019Q3\n",
    "        and user_id != 0\n",
    "        and content_edits >= 5 and\n",
    "    not bot_by_group and\n",
    "    user_name not regexp \"bot\\\\b\"\n",
    "    group by month, wiki, user_name, user_id\n",
    "\"\"\")"
   ]
  },
  {
   "cell_type": "code",
   "execution_count": 5,
   "metadata": {},
   "outputs": [
    {
     "data": {
      "text/html": [
       "<div>\n",
       "<style scoped>\n",
       "    .dataframe tbody tr th:only-of-type {\n",
       "        vertical-align: middle;\n",
       "    }\n",
       "\n",
       "    .dataframe tbody tr th {\n",
       "        vertical-align: top;\n",
       "    }\n",
       "\n",
       "    .dataframe thead th {\n",
       "        text-align: right;\n",
       "    }\n",
       "</style>\n",
       "<table border=\"1\" class=\"dataframe\">\n",
       "  <thead>\n",
       "    <tr style=\"text-align: right;\">\n",
       "      <th></th>\n",
       "      <th>month</th>\n",
       "      <th>wiki</th>\n",
       "      <th>user_name</th>\n",
       "      <th>user_id</th>\n",
       "      <th>content_edits</th>\n",
       "    </tr>\n",
       "  </thead>\n",
       "  <tbody>\n",
       "    <tr>\n",
       "      <th>0</th>\n",
       "      <td>2019-01-01</td>\n",
       "      <td>acewiki</td>\n",
       "      <td>Iqbalhafidh</td>\n",
       "      <td>5850</td>\n",
       "      <td>5</td>\n",
       "    </tr>\n",
       "    <tr>\n",
       "      <th>1</th>\n",
       "      <td>2019-01-01</td>\n",
       "      <td>afwiki</td>\n",
       "      <td>Burgert Behr</td>\n",
       "      <td>2401</td>\n",
       "      <td>201</td>\n",
       "    </tr>\n",
       "    <tr>\n",
       "      <th>2</th>\n",
       "      <td>2019-01-01</td>\n",
       "      <td>afwiki</td>\n",
       "      <td>Ercé</td>\n",
       "      <td>47759</td>\n",
       "      <td>7</td>\n",
       "    </tr>\n",
       "    <tr>\n",
       "      <th>3</th>\n",
       "      <td>2019-01-01</td>\n",
       "      <td>afwiki</td>\n",
       "      <td>Kovu777</td>\n",
       "      <td>107607</td>\n",
       "      <td>9</td>\n",
       "    </tr>\n",
       "    <tr>\n",
       "      <th>4</th>\n",
       "      <td>2019-01-01</td>\n",
       "      <td>alswiki</td>\n",
       "      <td>Eruedin</td>\n",
       "      <td>108</td>\n",
       "      <td>11</td>\n",
       "    </tr>\n",
       "  </tbody>\n",
       "</table>\n",
       "</div>"
      ],
      "text/plain": [
       "        month     wiki     user_name  user_id  content_edits\n",
       "0  2019-01-01  acewiki   Iqbalhafidh     5850              5\n",
       "1  2019-01-01   afwiki  Burgert Behr     2401            201\n",
       "2  2019-01-01   afwiki          Ercé    47759              7\n",
       "3  2019-01-01   afwiki       Kovu777   107607              9\n",
       "4  2019-01-01  alswiki       Eruedin      108             11"
      ]
     },
     "execution_count": 5,
     "metadata": {},
     "output_type": "execute_result"
    }
   ],
   "source": [
    "active_ed_2019Q3.head()"
   ]
  },
  {
   "cell_type": "code",
   "execution_count": 6,
   "metadata": {},
   "outputs": [],
   "source": [
    "#Querying user_properties for getting the skin preferences set by the active editors we got in the above query\n",
    "\n",
    "query='''\n",
    "Select \n",
    "    up_value as skin, \n",
    "    count(*) as users\n",
    "    from user_properties\n",
    "    where up_user in ({users})\n",
    "    and up_property = \"skin\"\n",
    "    group by up_value\n",
    "'''"
   ]
  },
  {
   "cell_type": "code",
   "execution_count": 7,
   "metadata": {},
   "outputs": [],
   "source": [
    "# Looping through each wiki for the list of users\n",
    "\n",
    "up_skin_2019Q3=list()\n",
    "for wiki in active_ed_2019Q3['wiki'].unique():\n",
    "    up_skin_2019Q3.append(\n",
    "    mariadb.run(query.format(\n",
    "        users = ','.join([str(u) for u in active_ed_2019Q3.loc[\n",
    "            active_ed_2019Q3['wiki'] == wiki]['user_id']])\n",
    "    ), wiki))\n"
   ]
  },
  {
   "cell_type": "code",
   "execution_count": 8,
   "metadata": {},
   "outputs": [],
   "source": [
    "skin_2019Q3 = pd.concat(up_skin_2019Q3)"
   ]
  },
  {
   "cell_type": "code",
   "execution_count": 10,
   "metadata": {},
   "outputs": [
    {
     "data": {
      "text/html": [
       "<div>\n",
       "<style scoped>\n",
       "    .dataframe tbody tr th:only-of-type {\n",
       "        vertical-align: middle;\n",
       "    }\n",
       "\n",
       "    .dataframe tbody tr th {\n",
       "        vertical-align: top;\n",
       "    }\n",
       "\n",
       "    .dataframe thead th {\n",
       "        text-align: right;\n",
       "    }\n",
       "</style>\n",
       "<table border=\"1\" class=\"dataframe\">\n",
       "  <thead>\n",
       "    <tr style=\"text-align: right;\">\n",
       "      <th></th>\n",
       "      <th>skin</th>\n",
       "      <th>users</th>\n",
       "    </tr>\n",
       "  </thead>\n",
       "  <tbody>\n",
       "    <tr>\n",
       "      <th>0</th>\n",
       "      <td>monobook</td>\n",
       "      <td>1</td>\n",
       "    </tr>\n",
       "    <tr>\n",
       "      <th>1</th>\n",
       "      <td>vector</td>\n",
       "      <td>1</td>\n",
       "    </tr>\n",
       "    <tr>\n",
       "      <th>0</th>\n",
       "      <td>monobook</td>\n",
       "      <td>1</td>\n",
       "    </tr>\n",
       "    <tr>\n",
       "      <th>1</th>\n",
       "      <td>vector</td>\n",
       "      <td>3</td>\n",
       "    </tr>\n",
       "    <tr>\n",
       "      <th>0</th>\n",
       "      <td>modern</td>\n",
       "      <td>1</td>\n",
       "    </tr>\n",
       "  </tbody>\n",
       "</table>\n",
       "</div>"
      ],
      "text/plain": [
       "       skin users\n",
       "0  monobook     1\n",
       "1    vector     1\n",
       "0  monobook     1\n",
       "1    vector     3\n",
       "0    modern     1"
      ]
     },
     "execution_count": 10,
     "metadata": {},
     "output_type": "execute_result"
    }
   ],
   "source": [
    "skin_2019Q3.head()"
   ]
  },
  {
   "cell_type": "code",
   "execution_count": 11,
   "metadata": {},
   "outputs": [],
   "source": [
    "#When skin is null consider that as 'Vector'\n",
    "skin_2019Q3['skin']=np.where((skin_2019Q3.skin==''),'vector',skin_2019Q3.skin) "
   ]
  },
  {
   "cell_type": "code",
   "execution_count": 12,
   "metadata": {},
   "outputs": [],
   "source": [
    "#When skin is 0 consider that as 'Vector'\n",
    "skin_2019Q3['skin']=np.where((skin_2019Q3.skin==0),'vector',skin_2019Q3.skin) "
   ]
  },
  {
   "cell_type": "code",
   "execution_count": 13,
   "metadata": {},
   "outputs": [],
   "source": [
    "#When skin is 2 consider that as 'cologne blue'\n",
    "skin_2019Q3['skin']=np.where((skin_2019Q3.skin==2),'cologneblue',skin_2019Q3.skin) "
   ]
  },
  {
   "cell_type": "markdown",
   "metadata": {},
   "source": [
    "#### Number of users for each skin type\n"
   ]
  },
  {
   "cell_type": "code",
   "execution_count": 14,
   "metadata": {},
   "outputs": [
    {
     "data": {
      "text/html": [
       "<div>\n",
       "<style scoped>\n",
       "    .dataframe tbody tr th:only-of-type {\n",
       "        vertical-align: middle;\n",
       "    }\n",
       "\n",
       "    .dataframe tbody tr th {\n",
       "        vertical-align: top;\n",
       "    }\n",
       "\n",
       "    .dataframe thead th {\n",
       "        text-align: right;\n",
       "    }\n",
       "</style>\n",
       "<table border=\"1\" class=\"dataframe\">\n",
       "  <thead>\n",
       "    <tr style=\"text-align: right;\">\n",
       "      <th></th>\n",
       "      <th>users</th>\n",
       "    </tr>\n",
       "    <tr>\n",
       "      <th>skin</th>\n",
       "      <th></th>\n",
       "    </tr>\n",
       "  </thead>\n",
       "  <tbody>\n",
       "    <tr>\n",
       "      <th>chick</th>\n",
       "      <td>7</td>\n",
       "    </tr>\n",
       "    <tr>\n",
       "      <th>cologneblue</th>\n",
       "      <td>186</td>\n",
       "    </tr>\n",
       "    <tr>\n",
       "      <th>minerva</th>\n",
       "      <td>121</td>\n",
       "    </tr>\n",
       "    <tr>\n",
       "      <th>modern</th>\n",
       "      <td>735</td>\n",
       "    </tr>\n",
       "    <tr>\n",
       "      <th>monobook</th>\n",
       "      <td>6680</td>\n",
       "    </tr>\n",
       "    <tr>\n",
       "      <th>myskin</th>\n",
       "      <td>2</td>\n",
       "    </tr>\n",
       "    <tr>\n",
       "      <th>nostalgia</th>\n",
       "      <td>7</td>\n",
       "    </tr>\n",
       "    <tr>\n",
       "      <th>simple</th>\n",
       "      <td>5</td>\n",
       "    </tr>\n",
       "    <tr>\n",
       "      <th>timeless</th>\n",
       "      <td>671</td>\n",
       "    </tr>\n",
       "    <tr>\n",
       "      <th>vector</th>\n",
       "      <td>5049</td>\n",
       "    </tr>\n",
       "  </tbody>\n",
       "</table>\n",
       "</div>"
      ],
      "text/plain": [
       "             users\n",
       "skin              \n",
       "chick            7\n",
       "cologneblue    186\n",
       "minerva        121\n",
       "modern         735\n",
       "monobook      6680\n",
       "myskin           2\n",
       "nostalgia        7\n",
       "simple           5\n",
       "timeless       671\n",
       "vector        5049"
      ]
     },
     "execution_count": 14,
     "metadata": {},
     "output_type": "execute_result"
    }
   ],
   "source": [
    "user_skin_2019Q3=skin_2019Q3.groupby('skin').sum()\n",
    "user_skin_2019Q3"
   ]
  },
  {
   "cell_type": "code",
   "execution_count": 15,
   "metadata": {},
   "outputs": [],
   "source": [
    "pct_user_skin_2019Q3=(100. * user_skin_2019Q3 / user_skin_2019Q3.sum()).round(1).astype(str) + '%'"
   ]
  },
  {
   "cell_type": "markdown",
   "metadata": {},
   "source": [
    "#### Percentage of users for each skin type"
   ]
  },
  {
   "cell_type": "code",
   "execution_count": 16,
   "metadata": {},
   "outputs": [
    {
     "data": {
      "text/html": [
       "<div>\n",
       "<style scoped>\n",
       "    .dataframe tbody tr th:only-of-type {\n",
       "        vertical-align: middle;\n",
       "    }\n",
       "\n",
       "    .dataframe tbody tr th {\n",
       "        vertical-align: top;\n",
       "    }\n",
       "\n",
       "    .dataframe thead th {\n",
       "        text-align: right;\n",
       "    }\n",
       "</style>\n",
       "<table border=\"1\" class=\"dataframe\">\n",
       "  <thead>\n",
       "    <tr style=\"text-align: right;\">\n",
       "      <th></th>\n",
       "      <th>users</th>\n",
       "    </tr>\n",
       "    <tr>\n",
       "      <th>skin</th>\n",
       "      <th></th>\n",
       "    </tr>\n",
       "  </thead>\n",
       "  <tbody>\n",
       "    <tr>\n",
       "      <th>chick</th>\n",
       "      <td>0.1%</td>\n",
       "    </tr>\n",
       "    <tr>\n",
       "      <th>cologneblue</th>\n",
       "      <td>1.4%</td>\n",
       "    </tr>\n",
       "    <tr>\n",
       "      <th>minerva</th>\n",
       "      <td>0.9%</td>\n",
       "    </tr>\n",
       "    <tr>\n",
       "      <th>modern</th>\n",
       "      <td>5.5%</td>\n",
       "    </tr>\n",
       "    <tr>\n",
       "      <th>monobook</th>\n",
       "      <td>49.6%</td>\n",
       "    </tr>\n",
       "    <tr>\n",
       "      <th>myskin</th>\n",
       "      <td>0.0%</td>\n",
       "    </tr>\n",
       "    <tr>\n",
       "      <th>nostalgia</th>\n",
       "      <td>0.1%</td>\n",
       "    </tr>\n",
       "    <tr>\n",
       "      <th>simple</th>\n",
       "      <td>0.0%</td>\n",
       "    </tr>\n",
       "    <tr>\n",
       "      <th>timeless</th>\n",
       "      <td>5.0%</td>\n",
       "    </tr>\n",
       "    <tr>\n",
       "      <th>vector</th>\n",
       "      <td>37.5%</td>\n",
       "    </tr>\n",
       "  </tbody>\n",
       "</table>\n",
       "</div>"
      ],
      "text/plain": [
       "             users\n",
       "skin              \n",
       "chick         0.1%\n",
       "cologneblue   1.4%\n",
       "minerva       0.9%\n",
       "modern        5.5%\n",
       "monobook     49.6%\n",
       "myskin        0.0%\n",
       "nostalgia     0.1%\n",
       "simple        0.0%\n",
       "timeless      5.0%\n",
       "vector       37.5%"
      ]
     },
     "execution_count": 16,
     "metadata": {},
     "output_type": "execute_result"
    }
   ],
   "source": [
    "pct_user_skin_2019Q3"
   ]
  },
  {
   "cell_type": "markdown",
   "metadata": {},
   "source": [
    "Looks like around 50% of active editors in Q3 preffered using Monobook skin.   \n",
    "Now let's get the skin preference for the entire year of 2019 "
   ]
  },
  {
   "cell_type": "code",
   "execution_count": 17,
   "metadata": {},
   "outputs": [],
   "source": [
    "#Active Editors for 2019 \n",
    "\n",
    "active_ed_2019=hive.run(\"\"\"\n",
    "select\n",
    "        cast(month as date) as month,\n",
    "        wiki,\n",
    "        user_name,\n",
    "        user_id,\n",
    "        sum(content_edits) as content_edits\n",
    "    from neilpquinn.editor_month\n",
    "    where\n",
    "        month >= \"2019-01-01\" and month < \"2020-01-01\"\n",
    "        and user_id != 0\n",
    "        and content_edits >= 5 and\n",
    "    not bot_by_group and\n",
    "    user_name not regexp \"bot\\\\b\"\n",
    "    group by month, wiki, user_name, user_id\n",
    "\"\"\")"
   ]
  },
  {
   "cell_type": "code",
   "execution_count": 19,
   "metadata": {},
   "outputs": [],
   "source": [
    "# Looping through each wiki for the list of users\n",
    "\n",
    "up_skin_2019=list()\n",
    "for wiki in active_ed_2019['wiki'].unique():\n",
    "    up_skin_2019.append(\n",
    "    mariadb.run(query.format(\n",
    "        users = ','.join([str(u) for u in active_ed_2019.loc[\n",
    "            active_ed_2019['wiki'] == wiki]['user_id']])\n",
    "    ), wiki))\n"
   ]
  },
  {
   "cell_type": "code",
   "execution_count": 20,
   "metadata": {},
   "outputs": [],
   "source": [
    "skin_2019 = pd.concat(up_skin_2019)"
   ]
  },
  {
   "cell_type": "code",
   "execution_count": 22,
   "metadata": {},
   "outputs": [],
   "source": [
    "#When skin is null consider it as 'Vector'\n",
    "\n",
    "skin_2019['skin']=np.where((skin_2019.skin==''),'vector',skin_2019.skin) "
   ]
  },
  {
   "cell_type": "code",
   "execution_count": 23,
   "metadata": {},
   "outputs": [],
   "source": [
    "#When skin is 0 consider it as 'Vector'\n",
    "\n",
    "skin_2019['skin']=np.where((skin_2019.skin==0),'vector',skin_2019.skin) "
   ]
  },
  {
   "cell_type": "code",
   "execution_count": 27,
   "metadata": {},
   "outputs": [],
   "source": [
    "#When skin is simple consider it as 'Vector'\n",
    "\n",
    "skin_2019['skin']=np.where((skin_2019.skin=='simple'),'vector',skin_2019.skin) "
   ]
  },
  {
   "cell_type": "code",
   "execution_count": 24,
   "metadata": {},
   "outputs": [],
   "source": [
    "#When skin is 2 consider it as 'cologneblue'\n",
    "\n",
    "skin_2019['skin']=np.where((skin_2019.skin==2),'cologneblue',skin_2019.skin) "
   ]
  },
  {
   "cell_type": "markdown",
   "metadata": {},
   "source": [
    "#### Number of users for each skin type in 2019"
   ]
  },
  {
   "cell_type": "code",
   "execution_count": 28,
   "metadata": {},
   "outputs": [
    {
     "data": {
      "text/html": [
       "<div>\n",
       "<style scoped>\n",
       "    .dataframe tbody tr th:only-of-type {\n",
       "        vertical-align: middle;\n",
       "    }\n",
       "\n",
       "    .dataframe tbody tr th {\n",
       "        vertical-align: top;\n",
       "    }\n",
       "\n",
       "    .dataframe thead th {\n",
       "        text-align: right;\n",
       "    }\n",
       "</style>\n",
       "<table border=\"1\" class=\"dataframe\">\n",
       "  <thead>\n",
       "    <tr style=\"text-align: right;\">\n",
       "      <th></th>\n",
       "      <th>users</th>\n",
       "    </tr>\n",
       "    <tr>\n",
       "      <th>skin</th>\n",
       "      <th></th>\n",
       "    </tr>\n",
       "  </thead>\n",
       "  <tbody>\n",
       "    <tr>\n",
       "      <th>chick</th>\n",
       "      <td>17</td>\n",
       "    </tr>\n",
       "    <tr>\n",
       "      <th>cologneblue</th>\n",
       "      <td>391</td>\n",
       "    </tr>\n",
       "    <tr>\n",
       "      <th>minerva</th>\n",
       "      <td>361</td>\n",
       "    </tr>\n",
       "    <tr>\n",
       "      <th>minervaneue</th>\n",
       "      <td>2</td>\n",
       "    </tr>\n",
       "    <tr>\n",
       "      <th>modern</th>\n",
       "      <td>1314</td>\n",
       "    </tr>\n",
       "    <tr>\n",
       "      <th>monobook</th>\n",
       "      <td>11895</td>\n",
       "    </tr>\n",
       "    <tr>\n",
       "      <th>myskin</th>\n",
       "      <td>8</td>\n",
       "    </tr>\n",
       "    <tr>\n",
       "      <th>nostalgia</th>\n",
       "      <td>17</td>\n",
       "    </tr>\n",
       "    <tr>\n",
       "      <th>standard</th>\n",
       "      <td>2</td>\n",
       "    </tr>\n",
       "    <tr>\n",
       "      <th>timeless</th>\n",
       "      <td>1752</td>\n",
       "    </tr>\n",
       "    <tr>\n",
       "      <th>vector</th>\n",
       "      <td>12035</td>\n",
       "    </tr>\n",
       "  </tbody>\n",
       "</table>\n",
       "</div>"
      ],
      "text/plain": [
       "             users\n",
       "skin              \n",
       "chick           17\n",
       "cologneblue    391\n",
       "minerva        361\n",
       "minervaneue      2\n",
       "modern        1314\n",
       "monobook     11895\n",
       "myskin           8\n",
       "nostalgia       17\n",
       "standard         2\n",
       "timeless      1752\n",
       "vector       12035"
      ]
     },
     "execution_count": 28,
     "metadata": {},
     "output_type": "execute_result"
    }
   ],
   "source": [
    "user_skin_2019=skin_2019.groupby('skin').sum()\n",
    "user_skin_2019"
   ]
  },
  {
   "cell_type": "markdown",
   "metadata": {},
   "source": [
    "#### Percentage of users for each skin type in 2019"
   ]
  },
  {
   "cell_type": "code",
   "execution_count": 41,
   "metadata": {},
   "outputs": [
    {
     "data": {
      "text/html": [
       "<div>\n",
       "<style scoped>\n",
       "    .dataframe tbody tr th:only-of-type {\n",
       "        vertical-align: middle;\n",
       "    }\n",
       "\n",
       "    .dataframe tbody tr th {\n",
       "        vertical-align: top;\n",
       "    }\n",
       "\n",
       "    .dataframe thead th {\n",
       "        text-align: right;\n",
       "    }\n",
       "</style>\n",
       "<table border=\"1\" class=\"dataframe\">\n",
       "  <thead>\n",
       "    <tr style=\"text-align: right;\">\n",
       "      <th></th>\n",
       "      <th>users</th>\n",
       "    </tr>\n",
       "    <tr>\n",
       "      <th>skin</th>\n",
       "      <th></th>\n",
       "    </tr>\n",
       "  </thead>\n",
       "  <tbody>\n",
       "    <tr>\n",
       "      <th>chick</th>\n",
       "      <td>0.1%</td>\n",
       "    </tr>\n",
       "    <tr>\n",
       "      <th>cologneblue</th>\n",
       "      <td>1.4%</td>\n",
       "    </tr>\n",
       "    <tr>\n",
       "      <th>minerva</th>\n",
       "      <td>1.3%</td>\n",
       "    </tr>\n",
       "    <tr>\n",
       "      <th>minervaneue</th>\n",
       "      <td>0.0%</td>\n",
       "    </tr>\n",
       "    <tr>\n",
       "      <th>modern</th>\n",
       "      <td>4.7%</td>\n",
       "    </tr>\n",
       "    <tr>\n",
       "      <th>monobook</th>\n",
       "      <td>42.8%</td>\n",
       "    </tr>\n",
       "    <tr>\n",
       "      <th>myskin</th>\n",
       "      <td>0.0%</td>\n",
       "    </tr>\n",
       "    <tr>\n",
       "      <th>nostalgia</th>\n",
       "      <td>0.1%</td>\n",
       "    </tr>\n",
       "    <tr>\n",
       "      <th>standard</th>\n",
       "      <td>0.0%</td>\n",
       "    </tr>\n",
       "    <tr>\n",
       "      <th>timeless</th>\n",
       "      <td>6.3%</td>\n",
       "    </tr>\n",
       "    <tr>\n",
       "      <th>vector</th>\n",
       "      <td>43.3%</td>\n",
       "    </tr>\n",
       "  </tbody>\n",
       "</table>\n",
       "</div>"
      ],
      "text/plain": [
       "             users\n",
       "skin              \n",
       "chick         0.1%\n",
       "cologneblue   1.4%\n",
       "minerva       1.3%\n",
       "minervaneue   0.0%\n",
       "modern        4.7%\n",
       "monobook     42.8%\n",
       "myskin        0.0%\n",
       "nostalgia     0.1%\n",
       "standard      0.0%\n",
       "timeless      6.3%\n",
       "vector       43.3%"
      ]
     },
     "execution_count": 41,
     "metadata": {},
     "output_type": "execute_result"
    }
   ],
   "source": [
    "pct_user_skin_2019=(100. * user_skin_2019 / user_skin_2019.sum()).round(1).astype(str) + '%'\n",
    "pct_user_skin_2019"
   ]
  },
  {
   "cell_type": "markdown",
   "metadata": {},
   "source": [
    "We see that Vector and Monobook were the top preferences of most active editors in 2019.  \n",
    "\n",
    "Now we will look at skin preferences of \"Very\" active editors i.e. users who have content edits >=600"
   ]
  },
  {
   "cell_type": "code",
   "execution_count": 30,
   "metadata": {},
   "outputs": [],
   "source": [
    "# Very Active Editors for 2019 \n",
    "\n",
    "very_active_ed_2019=hive.run(\"\"\"\n",
    "select\n",
    "        cast(month as date) as month,\n",
    "        wiki,\n",
    "        user_name,\n",
    "        user_id,\n",
    "        sum(content_edits) as content_edits\n",
    "    from neilpquinn.editor_month\n",
    "    where\n",
    "        month >= \"2019-01-01\" and month < \"2020-01-01\" \n",
    "        and user_id != 0\n",
    "        and content_edits >= 600 and\n",
    "    not bot_by_group and\n",
    "    user_name not regexp \"bot\\\\b\"\n",
    "    group by month, wiki, user_name, user_id\n",
    "\"\"\")"
   ]
  },
  {
   "cell_type": "code",
   "execution_count": 31,
   "metadata": {},
   "outputs": [],
   "source": [
    "# Looping through each wiki for the list of users\n",
    "\n",
    "active_up_skin_2019=list()\n",
    "for wiki in very_active_ed_2019['wiki'].unique():\n",
    "    active_up_skin_2019.append(\n",
    "    mariadb.run(query.format(\n",
    "        users = ','.join([str(u) for u in very_active_ed_2019.loc[\n",
    "            very_active_ed_2019['wiki'] == wiki]['user_id']])\n",
    "    ), wiki))\n"
   ]
  },
  {
   "cell_type": "code",
   "execution_count": 32,
   "metadata": {},
   "outputs": [],
   "source": [
    "very_active_skin_2019 = pd.concat(active_up_skin_2019)"
   ]
  },
  {
   "cell_type": "code",
   "execution_count": 33,
   "metadata": {},
   "outputs": [],
   "source": [
    "#When skin is null consider it as 'Vector'\n",
    "\n",
    "very_active_skin_2019['skin']=np.where((very_active_skin_2019.skin==''),'vector',very_active_skin_2019.skin) "
   ]
  },
  {
   "cell_type": "code",
   "execution_count": 34,
   "metadata": {},
   "outputs": [],
   "source": [
    "#When skin is 0 consider it as 'Vector'\n",
    "\n",
    "very_active_skin_2019['skin']=np.where((very_active_skin_2019.skin==0),'vector',very_active_skin_2019.skin) "
   ]
  },
  {
   "cell_type": "code",
   "execution_count": 35,
   "metadata": {},
   "outputs": [],
   "source": [
    "#When skin is 'simple' consider it as 'Vector'\n",
    "\n",
    "very_active_skin_2019['skin']=np.where((very_active_skin_2019.skin=='simple'),'vector',very_active_skin_2019.skin)"
   ]
  },
  {
   "cell_type": "code",
   "execution_count": 36,
   "metadata": {},
   "outputs": [],
   "source": [
    "#When skin is 2 consider it as 'cologneblue'\n",
    "\n",
    "very_active_skin_2019['skin']=\n",
    "    np.where((very_active_skin_2019.skin==2),'cologneblue',very_active_skin_2019.skin) "
   ]
  },
  {
   "cell_type": "markdown",
   "metadata": {},
   "source": [
    "#### Number of very active editors for each skin type in 2019"
   ]
  },
  {
   "cell_type": "code",
   "execution_count": 37,
   "metadata": {},
   "outputs": [
    {
     "data": {
      "text/html": [
       "<div>\n",
       "<style scoped>\n",
       "    .dataframe tbody tr th:only-of-type {\n",
       "        vertical-align: middle;\n",
       "    }\n",
       "\n",
       "    .dataframe tbody tr th {\n",
       "        vertical-align: top;\n",
       "    }\n",
       "\n",
       "    .dataframe thead th {\n",
       "        text-align: right;\n",
       "    }\n",
       "</style>\n",
       "<table border=\"1\" class=\"dataframe\">\n",
       "  <thead>\n",
       "    <tr style=\"text-align: right;\">\n",
       "      <th></th>\n",
       "      <th>users</th>\n",
       "    </tr>\n",
       "    <tr>\n",
       "      <th>skin</th>\n",
       "      <th></th>\n",
       "    </tr>\n",
       "  </thead>\n",
       "  <tbody>\n",
       "    <tr>\n",
       "      <th>cologneblue</th>\n",
       "      <td>10</td>\n",
       "    </tr>\n",
       "    <tr>\n",
       "      <th>minerva</th>\n",
       "      <td>5</td>\n",
       "    </tr>\n",
       "    <tr>\n",
       "      <th>modern</th>\n",
       "      <td>73</td>\n",
       "    </tr>\n",
       "    <tr>\n",
       "      <th>monobook</th>\n",
       "      <td>855</td>\n",
       "    </tr>\n",
       "    <tr>\n",
       "      <th>timeless</th>\n",
       "      <td>69</td>\n",
       "    </tr>\n",
       "    <tr>\n",
       "      <th>vector</th>\n",
       "      <td>160</td>\n",
       "    </tr>\n",
       "  </tbody>\n",
       "</table>\n",
       "</div>"
      ],
      "text/plain": [
       "             users\n",
       "skin              \n",
       "cologneblue     10\n",
       "minerva          5\n",
       "modern          73\n",
       "monobook       855\n",
       "timeless        69\n",
       "vector         160"
      ]
     },
     "execution_count": 37,
     "metadata": {},
     "output_type": "execute_result"
    }
   ],
   "source": [
    "active_user_skin_2019=very_active_skin_2019.groupby('skin').sum()\n",
    "active_user_skin_2019"
   ]
  },
  {
   "cell_type": "markdown",
   "metadata": {},
   "source": [
    "#### Percentage of very active users for each skin type in 2019"
   ]
  },
  {
   "cell_type": "code",
   "execution_count": 39,
   "metadata": {},
   "outputs": [
    {
     "data": {
      "text/html": [
       "<div>\n",
       "<style scoped>\n",
       "    .dataframe tbody tr th:only-of-type {\n",
       "        vertical-align: middle;\n",
       "    }\n",
       "\n",
       "    .dataframe tbody tr th {\n",
       "        vertical-align: top;\n",
       "    }\n",
       "\n",
       "    .dataframe thead th {\n",
       "        text-align: right;\n",
       "    }\n",
       "</style>\n",
       "<table border=\"1\" class=\"dataframe\">\n",
       "  <thead>\n",
       "    <tr style=\"text-align: right;\">\n",
       "      <th></th>\n",
       "      <th>users</th>\n",
       "    </tr>\n",
       "    <tr>\n",
       "      <th>skin</th>\n",
       "      <th></th>\n",
       "    </tr>\n",
       "  </thead>\n",
       "  <tbody>\n",
       "    <tr>\n",
       "      <th>cologneblue</th>\n",
       "      <td>0.9%</td>\n",
       "    </tr>\n",
       "    <tr>\n",
       "      <th>minerva</th>\n",
       "      <td>0.4%</td>\n",
       "    </tr>\n",
       "    <tr>\n",
       "      <th>modern</th>\n",
       "      <td>6.2%</td>\n",
       "    </tr>\n",
       "    <tr>\n",
       "      <th>monobook</th>\n",
       "      <td>73.0%</td>\n",
       "    </tr>\n",
       "    <tr>\n",
       "      <th>timeless</th>\n",
       "      <td>5.9%</td>\n",
       "    </tr>\n",
       "    <tr>\n",
       "      <th>vector</th>\n",
       "      <td>13.7%</td>\n",
       "    </tr>\n",
       "  </tbody>\n",
       "</table>\n",
       "</div>"
      ],
      "text/plain": [
       "             users\n",
       "skin              \n",
       "cologneblue   0.9%\n",
       "minerva       0.4%\n",
       "modern        6.2%\n",
       "monobook     73.0%\n",
       "timeless      5.9%\n",
       "vector       13.7%"
      ]
     },
     "execution_count": 39,
     "metadata": {},
     "output_type": "execute_result"
    }
   ],
   "source": [
    "pct_active_skin_2019=(100. * active_user_skin_2019 / active_user_skin_2019.sum()).round(1).astype(str) + '%'\n",
    "pct_active_skin_2019"
   ]
  },
  {
   "cell_type": "markdown",
   "metadata": {},
   "source": [
    "Looking at the drop in Vector skin preference for very active editors, there could be a high possibility that the database was cleared out of Vector to save unnecessary storage. This needs to be confirmed though. "
   ]
  },
  {
   "cell_type": "code",
   "execution_count": null,
   "metadata": {},
   "outputs": [],
   "source": []
  }
 ],
 "metadata": {
  "kernelspec": {
   "display_name": "Python 3",
   "language": "python",
   "name": "python3"
  },
  "language_info": {
   "codemirror_mode": {
    "name": "ipython",
    "version": 3
   },
   "file_extension": ".py",
   "mimetype": "text/x-python",
   "name": "python",
   "nbconvert_exporter": "python",
   "pygments_lexer": "ipython3",
   "version": "3.5.3"
  }
 },
 "nbformat": 4,
 "nbformat_minor": 2
}
